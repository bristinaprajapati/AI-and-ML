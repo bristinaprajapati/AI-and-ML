{
  "nbformat": 4,
  "nbformat_minor": 0,
  "metadata": {
    "colab": {
      "provenance": []
    },
    "kernelspec": {
      "name": "python3",
      "display_name": "Python 3"
    },
    "language_info": {
      "name": "python"
    }
  },
  "cells": [
    {
      "cell_type": "markdown",
      "source": [
        "# 4.1 Exercise on Functions:\n",
        "# Task - 1:\n",
        "# Create a Python program that converts between different units of measurement.\n",
        "\n",
        "• The program should:\n",
        "1. Prompt the user to choose the type of conversion (e.g., length, weight, volume).\n",
        "2. Ask the user to input the value to be converted.\n",
        "3. Perform the conversion and display the result.\n",
        "4. Handle potential errors, such as invalid input or unsupported conversion types.\n",
        "• Requirements:\n",
        "1. Functions: Define at least one function to perform the conversion.\n",
        "2. Error Handling: Use try-except blocks to handle invalid input (e.g., non-numeric values).\n",
        "3. User Input: Prompt the user to select the conversion type and input the value.\n",
        "4. Docstrings: Include a docstring in your function to describe its purpose, parameters, and\n",
        "return value.\n",
        "• Conversion Options:\n",
        "1. Length:\n",
        "– Convert meters (m) to feet (ft).\n",
        "– Convert feet (ft) to meters (m).\n",
        "2. Weight:\n",
        "– Convert kilograms (kg) to pounds (lbs).\n",
        "– Convert pounds (lbs) to kilograms (kg).\n",
        "3. Volume:\n",
        "– Convert liters (L) to gallons (gal).\n",
        "– Convert gallons (gal) to liters (L)."
      ],
      "metadata": {
        "id": "IEF95NYyzNhy"
      }
    },
    {
      "cell_type": "code",
      "execution_count": 1,
      "metadata": {
        "colab": {
          "base_uri": "https://localhost:8080/"
        },
        "id": "_e_0fxCizGDX",
        "outputId": "d933a283-49f1-46e1-f00c-5694f61cc56d"
      },
      "outputs": [
        {
          "output_type": "stream",
          "name": "stdout",
          "text": [
            "Unit Converter\n",
            "Select conversion type:\n",
            "1. Convert Length (m <-> ft)\n",
            "2. Convert Weight (kg <-> lbs)\n",
            "3. Convert Volume (L <-> gal)\n",
            "Enter choice (1-3): 1\n",
            "Enter value to convert: 1\n",
            "Enter unit (m/ft): m\n",
            "Converted value: 3.28 ft\n"
          ]
        }
      ],
      "source": [
        "def length_convert(value, unit):\n",
        "    # meter and feet\n",
        "    if unit == \"m\":\n",
        "        return value * 3.28084, \"ft\"\n",
        "    elif unit == \"ft\":\n",
        "        return value / 3.28084, \"m\"\n",
        "    else:\n",
        "        raise ValueError(\"Invalid unit for length conversion\")\n",
        "\n",
        "def weight_convert(value, unit):\n",
        "    # kg and pound\n",
        "    if unit == \"kg\":\n",
        "        return value * 2.20, \"lbs\"\n",
        "    elif unit == \"lbs\":\n",
        "        return value / 2.20, \"kg\"\n",
        "    else:\n",
        "        raise ValueError(\"Invalid unit for weight conversion\")\n",
        "\n",
        "def volume_convert(value, unit):\n",
        "    # liters and gallons\n",
        "    if unit == \"L\":\n",
        "        return value * 0.264172, \"gal\"\n",
        "    elif unit == \"gal\":\n",
        "        return value / 0.264172, \"L\"\n",
        "    else:\n",
        "        raise ValueError(\"Invalid unit for volume conversion\")\n",
        "\n",
        "def main():\n",
        "    print(\"Unit Converter\")\n",
        "    print(\"Select conversion type:\")\n",
        "    print(\"1. Convert Length (m <-> ft)\")\n",
        "    print(\"2. Convert Weight (kg <-> lbs)\")\n",
        "    print(\"3. Convert Volume (L <-> gal)\")\n",
        "\n",
        "    try:\n",
        "        choice = int(input(\"Enter choice (1-3): \"))\n",
        "        value = float(input(\"Enter value to convert: \"))\n",
        "\n",
        "        if choice == 1:\n",
        "            from_unit = input(\"Enter unit (m/ft): \").strip().lower()\n",
        "            result = length_convert(value, from_unit)\n",
        "        elif choice == 2:\n",
        "            from_unit = input(\"Enter unit (kg/lbs): \").strip().lower()\n",
        "            result = weight_convert(value, from_unit)\n",
        "        elif choice == 3:\n",
        "            from_unit = input(\"Enter unit (L/gal): \").strip().lower()\n",
        "            result = volume_convert(value, from_unit)\n",
        "        else:\n",
        "            print(\"Invalid choice. Please select 1, 2, or 3.\")\n",
        "            return\n",
        "\n",
        "        print(f\"Converted value: {result[0]:.2f} {result[1]}\")\n",
        "    except ValueError as e:\n",
        "        print(f\"Error: {e}\")\n",
        "    except Exception as e:\n",
        "        print(f\"Unexpected error: {e}\")\n",
        "\n",
        "if __name__ == \"__main__\":\n",
        "    main()\n"
      ]
    },
    {
      "cell_type": "markdown",
      "source": [
        "# Task - 2:\n",
        "# Create a Python program that performs various mathematical operations on a list of numbers.\n",
        "• The Program should:\n",
        "1. Prompt the user to choose an operation (e.g., find the sum, average, maximum, or minimum\n",
        "of the numbers).\n",
        "2. Ask the user to input a list of numbers (separated by spaces).\n",
        "\n",
        "3. Perform the selected operation and display the result.\n",
        "4. Handle potential errors, such as invalid input or empty lists.\n",
        "• Requirements:\n",
        "\n",
        "1. Functions: Define at least one function for each operation (sum, average, maximum, mini-\n",
        "mum).\n",
        "\n",
        "2. Error Handling: Use try-except blocks to handle invalid input (e.g., non-numeric values or\n",
        "empty lists).\n",
        "3. User Input: Prompt the user to select the operation and input the list of numbers.\n",
        "4. Docstrings: Include a docstring in each function to describe its purpose, parameters, and\n",
        "return value."
      ],
      "metadata": {
        "id": "OXD66Zpz7ABJ"
      }
    },
    {
      "cell_type": "code",
      "source": [
        "def calculate_sum(num):\n",
        "    \"\"\"Returns the sum of a list of numbers.\"\"\"\n",
        "    return sum(num)\n",
        "\n",
        "def calculate_avarage(num):\n",
        "    \"\"\"Returns the average of a list of numbers.\"\"\"\n",
        "    return sum(num)/len(num) if num else 0\n",
        "\n",
        "def calculate_max(num):\n",
        "    \"\"\"Returns the maximum value from a list of numbers.\"\"\"\n",
        "    return max(num)\n",
        "\n",
        "def calculate_min(num):\n",
        "   \"\"\"Returns the minimum value from a list of numbers.\"\"\"\n",
        "   return min(num)\n",
        "def main():\n",
        "  print(\"Choose an operation:\")\n",
        "  print(\"1. Sum\")\n",
        "  print(\"2. Average\")\n",
        "  print(\"3. Maximum\")\n",
        "  print(\"4. Minimum\")\n",
        "\n",
        "  try:\n",
        "    choice = int(input(\"Enter choice (1/2/3/4): \"))\n",
        "    numbers = input(\"Enter a list of numbers separated by spaces: \").split()\n",
        "\n",
        "    \"\"\"converting input string to list of numbers\"\"\"\n",
        "    num = [float(num) for num in numbers]\n",
        "\n",
        "    if not num:\n",
        "      print(\"The list is empty.\")\n",
        "      return\n",
        "\n",
        "    if choice == 1:\n",
        "      print(\"Sum:\", calculate_sum(num))\n",
        "    elif choice == 2:\n",
        "      print(\"Average:\", calculate_avarage(num))\n",
        "    elif choice == 3:\n",
        "      print(\"Maximum:\", calculate_max(num))\n",
        "      result = calculate_sum(num)\n",
        "    elif choice == 4:\n",
        "      print(\"Minimum:\", calculate_min(num))\n",
        "    else:\n",
        "      print(\"Invalid choice. Please select 1, 2, or 3.\")\n",
        "      return\n",
        "  except ValueError:\n",
        "    print(\"Invalid input. Please enter a list of numbers separated by spaces.\")\n",
        "  except Exception as e:\n",
        "    print(f\"An error occurred: {e}\")\n",
        "\n",
        "if __name__ == \"__main__\":\n",
        "  main()\n"
      ],
      "metadata": {
        "id": "8gMy85z47fIg",
        "colab": {
          "base_uri": "https://localhost:8080/"
        },
        "outputId": "8dc963a5-148c-44cf-ff7d-bb49709b5eb5"
      },
      "execution_count": 2,
      "outputs": [
        {
          "output_type": "stream",
          "name": "stdout",
          "text": [
            "Choose an operation:\n",
            "1. Sum\n",
            "2. Average\n",
            "3. Maximum\n",
            "4. Minimum\n",
            "Enter choice (1/2/3/4): 1\n",
            "Enter a list of numbers separated by spaces: 2 3\n",
            "Sum: 5.0\n"
          ]
        }
      ]
    },
    {
      "cell_type": "markdown",
      "source": [
        "# 4.2 Exercise on List Manipulation:"
      ],
      "metadata": {
        "id": "5fzMZyTP_X5N"
      }
    },
    {
      "cell_type": "markdown",
      "source": [
        "# 1. Extract Every Other Element:\n",
        "Write a Python function that extracts every other element from a list, starting from the first element.\n",
        "• Requirements:\n",
        "– Define a function extract every other(lst) that takes a list lst as input and returns a\n",
        "new list containing every other element from the original list.\n",
        "– Example: For the input [1, 2, 3, 4, 5, 6], the output should be [1, 3, 5]."
      ],
      "metadata": {
        "id": "IydZp-XX_dRv"
      }
    },
    {
      "cell_type": "code",
      "source": [
        "def every_other_element(lst):\n",
        "  \"\"\"Extracts every other element from the given list, starting from the first element\"\"\"\n",
        "  return lst[::2]\n",
        "\n",
        "def main():\n",
        "  \"\"\"Taking user input\"\"\"\n",
        "  user_input = input(\"Enter list of numbers seperated by spaces:\")\n",
        "\n",
        "  \"\"\"Converting input string into list of int\"\"\"\n",
        "  input_list = [int(x) for x in user_input.split()]\n",
        "\n",
        "  result = every_other_element(input_list)\n",
        "  print(\"Every other element: \", result)\n",
        "\n",
        "if __name__ == \"__main__\":\n",
        "    main()"
      ],
      "metadata": {
        "colab": {
          "base_uri": "https://localhost:8080/"
        },
        "id": "mfx_hFfY99Vc",
        "outputId": "54287f00-1552-484a-f5ef-fe92305dad42"
      },
      "execution_count": 3,
      "outputs": [
        {
          "output_type": "stream",
          "name": "stdout",
          "text": [
            "Enter list of numbers seperated by spaces:9 8 7 6 5 4 3 2\n",
            "Every other element:  [9, 7, 5, 3]\n"
          ]
        }
      ]
    },
    {
      "cell_type": "markdown",
      "source": [
        "# 2. Slice a Sublist:\n",
        "Write a Python function that returns a sublist from a given list, starting from a specified index and\n",
        "ending at another specified index.\n",
        "• Requirements:\n",
        "– Define a function get sublist(lst, start, end) that takes a list lst, a starting index\n",
        "start, and an ending index end as input and returns the sublist from start to end (inclusive).\n",
        "Example: For the input [1, 2, 3, 4, 5, 6] with start=2 and end=4, the output should\n",
        "be [3, 4, 5]."
      ],
      "metadata": {
        "id": "prmg5bt4CCjw"
      }
    },
    {
      "cell_type": "code",
      "source": [
        "def get_sublist(lst, start, end):\n",
        "  \"\"\"Returns a sublist from the given list starting from 'start' to 'end' (inclusive)\"\"\"\n",
        "  return lst[start:end+1]\n",
        "\n",
        "def main():\n",
        "    \"\"\"Taking user input\"\"\"\n",
        "    user_input = input(\"Enter list of numbers seperated by spaces:\")\n",
        "\n",
        "    try:\n",
        "      \"\"\"Converting input string into list of int\"\"\"\n",
        "      input_list = [int(x) for x in user_input.split()]\n",
        "    except ValueError:\n",
        "      print(\"Invalid input. Please enter a list of numbers seperated by spaces.\")\n",
        "      return\n",
        "\n",
        "    if not input_list:\n",
        "      print(\"The list is empty.\")\n",
        "      return\n",
        "    try:\n",
        "      \"\"\"User uinput for start and end index\"\"\"\n",
        "      start = int(input(\"Eneter the start index\"))\n",
        "      end = int(input(\"Enter the end index\"))\n",
        "\n",
        "      if start<0 or end<0:\n",
        "        raise ValueError(\"Entered value must be non negative\")\n",
        "\n",
        "      if start > len(input_list) - 1 or end > len(input_list) - 1:\n",
        "        raise IndexError(\"Index out of range\")\n",
        "\n",
        "      result = get_sublist(input_list, start, end)\n",
        "      print(\"Sublist: \", result)\n",
        "\n",
        "    except (ValueError, IndexError) as e:\n",
        "      print(f\"Error: {e}\")\n",
        "\n",
        "if __name__ == \"__main__\":\n",
        "  main()\n"
      ],
      "metadata": {
        "colab": {
          "base_uri": "https://localhost:8080/"
        },
        "id": "qOEDBS3BBynH",
        "outputId": "fe7e4a6b-bed1-4de4-8f71-932e5b65f5bb"
      },
      "execution_count": 4,
      "outputs": [
        {
          "output_type": "stream",
          "name": "stdout",
          "text": [
            "Enter list of numbers seperated by spaces:9 8 7 6 5 4 3 2 1\n",
            "Eneter the start index3\n",
            "Enter the end index6\n",
            "Sublist:  [6, 5, 4, 3]\n"
          ]
        }
      ]
    },
    {
      "cell_type": "markdown",
      "source": [
        "# 3. Reverse a List Using Slicing:\n",
        "Write a Python function that reverses a list using slicing.\n",
        "• Requirements:\n",
        "– Define a function reverse list(lst) that takes a list lst and returns a reversed list using\n",
        "slicing.\n",
        "– Example: For the input [1, 2, 3, 4, 5], the output should be [5, 4, 3, 2, 1]."
      ],
      "metadata": {
        "id": "rLMF0IoNKHUs"
      }
    },
    {
      "cell_type": "code",
      "source": [
        "def reverse_list(lst):\n",
        "  return lst[::-1]\n",
        "\n",
        "def main():\n",
        "    \"\"\"Taking user input\"\"\"\n",
        "    user_input = input(\"Enter list of numbers seperated by spaces:\")\n",
        "\n",
        "    try:\n",
        "      \"\"\"Converting input string into list of int\"\"\"\n",
        "      input_list = [int(x) for x in user_input.split()]\n",
        "    except ValueError:\n",
        "      print(\"Invalid input. Please enter a list of numbers seperated by spaces.\")\n",
        "      return\n",
        "\n",
        "    if not input_list:\n",
        "      print(\"The list is empty.\")\n",
        "      return\n",
        "\n",
        "    reverse_lict = reverse_list(input_list)\n",
        "    print(\"Reversed list: \", reverse_lict)\n",
        "\n",
        "if __name__ == \"__main__\":\n",
        "  main()"
      ],
      "metadata": {
        "colab": {
          "base_uri": "https://localhost:8080/"
        },
        "id": "1rbSmc5rIPIx",
        "outputId": "66190718-7452-403a-eaa8-e647fedc7183"
      },
      "execution_count": 41,
      "outputs": [
        {
          "output_type": "stream",
          "name": "stdout",
          "text": [
            "Enter list of numbers seperated by spaces:9 8 7 6 5 4 3\n",
            "Reversed list:  [3, 4, 5, 6, 7, 8, 9]\n"
          ]
        }
      ]
    },
    {
      "cell_type": "markdown",
      "source": [
        "# 4. Remove the First and Last Elements:\n",
        "Write a Python function that removes the first and last elements of a list and returns the resulting\n",
        "sublist.\n",
        "• Requirements:\n",
        "– Define a function remove first last(lst) that takes a list lst and returns a sublist without\n",
        "the first and last elements using slicing.\n",
        "– Example: For the input [1, 2, 3, 4, 5], the output should be [2, 3, 4]."
      ],
      "metadata": {
        "id": "uJHBOCWfK4op"
      }
    },
    {
      "cell_type": "code",
      "source": [
        "def remove_element_first_last(lst):\n",
        "  return lst[1:-1]\n",
        "\n",
        "def main():\n",
        "    \"\"\"Taking user input\"\"\"\n",
        "    user_input = input(\"Enter list of numbers seperated by spaces:\")\n",
        "\n",
        "    try:\n",
        "      \"\"\"Converting input string into list of int\"\"\"\n",
        "      input_list = [int(x) for x in user_input.split()]\n",
        "    except ValueError:\n",
        "      print(\"Invalid input. Please enter a list of numbers seperated by spaces.\")\n",
        "      return\n",
        "\n",
        "    if not input_list:\n",
        "      print(\"The list is empty.\")\n",
        "      return\n",
        "\n",
        "    if len(input_list)<3:\n",
        "      print(\"Must contain at least 3 elements\")\n",
        "      return\n",
        "\n",
        "    result_list = remove_element_first_last(input_list)\n",
        "    print(\"Resulting list: \", result_list)\n",
        "\n",
        "if __name__ == \"__main__\":\n",
        "  main()"
      ],
      "metadata": {
        "colab": {
          "base_uri": "https://localhost:8080/"
        },
        "id": "12DbGvy8KtCJ",
        "outputId": "7f729c11-cc88-426a-875f-2acdded57189"
      },
      "execution_count": 42,
      "outputs": [
        {
          "output_type": "stream",
          "name": "stdout",
          "text": [
            "Enter list of numbers seperated by spaces:9 8 7 6 5 4 3  1\n",
            "Resulting list:  [8, 7, 6, 5, 4, 3]\n"
          ]
        }
      ]
    },
    {
      "cell_type": "markdown",
      "source": [
        "# 5. Get the First n Elements:\n",
        "Write a Python function that extracts the first n elements from a list.\n",
        "• Requirements:\n",
        "– Define a function get first n(lst, n) that takes a list lst and an integer n as input and\n",
        "returns the first n elements of the list using slicing.\n",
        "– Example: For the input [1, 2, 3, 4, 5] with n=3, the output should be [1, 2, 3]."
      ],
      "metadata": {
        "id": "zwjUeePvL_Qp"
      }
    },
    {
      "cell_type": "code",
      "source": [
        "def get_first_n(lst, n):\n",
        "    \"\"\"Returns the first n elements of the given list using slicing.\"\"\"\n",
        "    return lst[:n]\n",
        "\n",
        "def main():\n",
        "    \"\"\"Taking user input\"\"\"\n",
        "    user_input = input(\"Enter a list of numbers separated by spaces: \")\n",
        "\n",
        "    try:\n",
        "        # Converting input string into list of integers\n",
        "        input_list = [int(x) for x in user_input.split()]\n",
        "    except ValueError:\n",
        "        print(\"Invalid input. Please enter a list of numbers separated by spaces.\")\n",
        "        return\n",
        "\n",
        "    if not input_list:\n",
        "        print(\"The list is empty.\")\n",
        "        return\n",
        "\n",
        "    try:\n",
        "        n = int(input(\"Enter the number of elements to extract from the list: \"))\n",
        "\n",
        "        if n < 0:\n",
        "            print(\"The number of elements must be non-negative.\")\n",
        "            return\n",
        "\n",
        "        if n > len(input_list):\n",
        "            print(\"The number of elements exceeds the length of the list.\")\n",
        "            return\n",
        "\n",
        "        # Corrected function call\n",
        "        result_list = get_first_n(input_list, n)\n",
        "        print(f\"The first {n} elements are: {result_list}\")\n",
        "\n",
        "    except ValueError:\n",
        "        print(\"Invalid input. Please enter a valid integer for 'n'.\")\n",
        "\n",
        "if __name__ == \"__main__\":\n",
        "    main()\n"
      ],
      "metadata": {
        "colab": {
          "base_uri": "https://localhost:8080/"
        },
        "id": "eMeXr5cZLyIt",
        "outputId": "f2af83bc-534f-4ebb-cae6-238d417c8dd2"
      },
      "execution_count": 7,
      "outputs": [
        {
          "output_type": "stream",
          "name": "stdout",
          "text": [
            "Enter a list of numbers separated by spaces: 9 8 7 6 5 4 3 2 1\n",
            "Enter the number of elements to extract from the list: 5\n",
            "The first 5 elements are: [9, 8, 7, 6, 5]\n"
          ]
        }
      ]
    },
    {
      "cell_type": "markdown",
      "source": [
        "# 6. Extract Elements from the End:\n",
        "Write a Python function that extracts the last n elements of a list using slicing.\n",
        "• Requirements:\n",
        "– Define a function get last n(lst, n) that takes a list lst and an integer n as input and\n",
        "returns the last n elements of the list.\n",
        "– Example: For the input [1, 2, 3, 4, 5] with n=2, the output should be [4, 5]."
      ],
      "metadata": {
        "id": "SdWNiAlNXA7R"
      }
    },
    {
      "cell_type": "code",
      "source": [
        "def get_last_n(lst, n):\n",
        "  return lst[-n:]\n",
        "\n",
        "def main():\n",
        "    \"\"\"Taking user input\"\"\"\n",
        "    user_input = input(\"Enter a list of numbers separated by spaces: \")\n",
        "\n",
        "    try:\n",
        "        # Converting input string into list of integers\n",
        "        input_list = [int(x) for x in user_input.split()]\n",
        "    except ValueError:\n",
        "        print(\"Invalid input. Please enter a list of numbers separated by spaces.\")\n",
        "        return\n",
        "\n",
        "    if not input_list:\n",
        "        print(\"The list is empty.\")\n",
        "        return\n",
        "\n",
        "    try:\n",
        "        n = int(input(\"Enter the number of elements to extract from the end of the list: \"))\n",
        "\n",
        "        if n < 0:\n",
        "            print(\"The number of elements must be non-negative.\")\n",
        "            return\n",
        "        if n > len(input_list):\n",
        "            print(\"The number of elements exceeds the length of the list.\")\n",
        "            return\n",
        "\n",
        "        result_list = get_last_n(input_list, n)\n",
        "        print(f\"The last {n} elements are: {result_list}\")\n",
        "\n",
        "    except ValueError:\n",
        "        print(\"Invalid input. Please enter a valid integer for 'n'.\")\n",
        "\n",
        "if __name__ == \"__main__\":\n",
        "    main()\n"
      ],
      "metadata": {
        "colab": {
          "base_uri": "https://localhost:8080/"
        },
        "id": "3mzI5kFMV59q",
        "outputId": "bf23afc3-2b18-42b8-882c-3876adebeb5b"
      },
      "execution_count": 8,
      "outputs": [
        {
          "output_type": "stream",
          "name": "stdout",
          "text": [
            "Enter a list of numbers separated by spaces: 9 8 7 6 5 4 3 2 1\n",
            "Enter the number of elements to extract from the end of the list: 3\n",
            "The last 3 elements are: [3, 2, 1]\n"
          ]
        }
      ]
    },
    {
      "cell_type": "markdown",
      "source": [
        "# 7. Extract Elements in Reverse Order:\n",
        "Write a Python function that extracts a list of elements in reverse order starting from the second-to-last\n",
        "element and skipping one element in between.\n",
        "• Requirements:\n",
        "– Define a function reverse skip(lst) that takes a list lst and returns a new list containing\n",
        "every second element starting from the second-to-last, moving backward.\n",
        "– Example: For the input [1, 2, 3, 4, 5, 6], the output should be [5, 3, 1]."
      ],
      "metadata": {
        "id": "pWWFjDUqYywL"
      }
    },
    {
      "cell_type": "code",
      "source": [
        "def reverse_skip(lst):\n",
        "  \"\"\"Returns a list containing every second element starting from the second-to-last, moving backward.\"\"\"\n",
        "  return lst[-2::-2]\n",
        "\n",
        "def main():\n",
        "    \"\"\"Taking user input\"\"\"\n",
        "    user_input = input(\"Enter a list of numbers separated by spaces: \")\n",
        "\n",
        "    try:\n",
        "        # Converting input string into list of integers\n",
        "        input_list = [int(x) for x in user_input.split()]\n",
        "    except ValueError:\n",
        "        print(\"Invalid input. Please enter a list of numbers separated by spaces.\")\n",
        "        return\n",
        "\n",
        "    if not input_list:\n",
        "        print(\"The list is empty.\")\n",
        "        return\n",
        "    result_list = reverse_skip(input_list)\n",
        "    print(\"Resulting list: \", result_list)\n",
        "\n",
        "if __name__ == \"__main__\":\n",
        "    main()\n",
        "\n"
      ],
      "metadata": {
        "colab": {
          "base_uri": "https://localhost:8080/"
        },
        "id": "iDa34lAOYUuJ",
        "outputId": "b3c5bd23-7bb0-4cd9-e65e-2e02db460b2c"
      },
      "execution_count": 9,
      "outputs": [
        {
          "output_type": "stream",
          "name": "stdout",
          "text": [
            "Enter a list of numbers separated by spaces: 9 8 7 6 5 4 3 2 1\n",
            "Resulting list:  [2, 4, 6, 8]\n"
          ]
        }
      ]
    },
    {
      "cell_type": "markdown",
      "source": [
        "# 4.3 Exercise on Nested List:"
      ],
      "metadata": {
        "id": "1N-e-YV6Z984"
      }
    },
    {
      "cell_type": "markdown",
      "source": [
        "# 1. Flatten a Nested List:\n",
        "Write a Python function that takes a nested list and flattens it into a single list, where all the elements\n",
        "are in a single dimension.\n",
        "• Requirements:\n",
        "– Define a function flatten(lst) that takes a nested list lst and returns a flattened version\n",
        "of the list.\n",
        "– Example: For the input [[1, 2], [3, 4], [5]], the output should be [1, 2, 3, 4, 5]."
      ],
      "metadata": {
        "id": "ykbYJc2GZ_iu"
      }
    },
    {
      "cell_type": "code",
      "source": [
        "import ast\n",
        "def flatten(lst):\n",
        "  flatten_list = []\n",
        "\n",
        "  for item in lst:\n",
        "    if isinstance(item, list):\n",
        "      # Recursively flatten the nested list\n",
        "      flatten_list.extend(flatten(item))\n",
        "    else:\n",
        "      # Adding non-list item to the flat list\n",
        "      flatten_list.append(item)\n",
        "\n",
        "  return flatten_list\n",
        "\n",
        "def main():\n",
        "  user_input = input(\"Enter a nested list (e.g., [[1, 2], [3, 4], [5]]): \")\n",
        "\n",
        "  try:\n",
        "      #converting into python list using ast.literal_eval\n",
        "      input_list = ast.literal_eval(user_input)\n",
        "\n",
        "      if not isinstance(input_list, list):\n",
        "        print(\"Invalid input. Please enter a valid nested list.\")\n",
        "        return\n",
        "\n",
        "      flattened_list = flatten(input_list)\n",
        "      print(\"Flattened list: \", flattened_list)\n",
        "\n",
        "  except ValueError:\n",
        "      print(\"Invalid input. Please enter a valid nested list.\")\n",
        "\n",
        "if __name__ == \"__main__\":\n",
        "  main()\n"
      ],
      "metadata": {
        "colab": {
          "base_uri": "https://localhost:8080/"
        },
        "id": "VPreDsVTZ2-4",
        "outputId": "b4213547-914a-4465-c0b4-3afd69635f68"
      },
      "execution_count": 10,
      "outputs": [
        {
          "output_type": "stream",
          "name": "stdout",
          "text": [
            "Enter a nested list (e.g., [[1, 2], [3, 4], [5]]): [[1, 2], [3, 4], [5]]\n",
            "Flattened list:  [1, 2, 3, 4, 5]\n"
          ]
        }
      ]
    },
    {
      "cell_type": "markdown",
      "source": [
        "# 2. Accessing Nested List Elements:\n",
        "Write a Python function that extracts a specific element from a nested list given its indices.\n",
        "• Requirements:\n",
        "– Define a function access nested element(lst, indices) that takes a nested list lst and\n",
        "a list of indices indices, and returns the element at that position.\n",
        "– Example: For the input lst = [[1, 2, 3], [4, 5, 6], [7, 8, 9]] with indices = [1,\n",
        "2], the output should be 6."
      ],
      "metadata": {
        "id": "Tg6CUIKjcbS4"
      }
    },
    {
      "cell_type": "code",
      "source": [
        "import ast\n",
        "\n",
        "def access_nested_element(lst, indices):\n",
        "  \"\"\"Returns the element at the specified indices in the nested list.\"\"\"\n",
        "  try:\n",
        "    for index in indices:\n",
        "      lst = lst[index]\n",
        "    return lst\n",
        "  except IndexError:\n",
        "    print(\"Invalid indices. Please provide valid indices.\")\n",
        "\n",
        "def main():\n",
        "  lst = [[1, 2, 3], [4, 5, 6], [7, 8, 9]]\n",
        "  indices = [1, 2]\n",
        "\n",
        "  result = access_nested_element(lst, indices)\n",
        "  print(\"Result: \", result)\n",
        "\n",
        "if __name__ == \"__main__\":\n",
        "  main()"
      ],
      "metadata": {
        "colab": {
          "base_uri": "https://localhost:8080/"
        },
        "id": "g1mF9Ws2cDyq",
        "outputId": "f3c6b33a-8d7a-4151-b071-b6cad0084ab2"
      },
      "execution_count": 11,
      "outputs": [
        {
          "output_type": "stream",
          "name": "stdout",
          "text": [
            "Result:  6\n"
          ]
        }
      ]
    },
    {
      "cell_type": "markdown",
      "source": [
        "# 3. Sum of All Elements in a Nested List:\n",
        "Write a Python function that calculates the sum of all the numbers in a nested list (regardless of depth).\n",
        "• Requirements:\n",
        "– Define a function sum nested(lst) that takes a nested list lst and returns the sum of all\n",
        "the elements.\n",
        "– Example: For the input [[1, 2], [3, [4, 5]], 6], the output should be 21."
      ],
      "metadata": {
        "id": "VjjUgAoNfLpi"
      }
    },
    {
      "cell_type": "code",
      "source": [
        "def sum_nested(lst):\n",
        "  total = 0\n",
        "\n",
        "  for item in lst:\n",
        "    if isinstance(item, list):\n",
        "      # Recursively calculate the sum of nested lists\n",
        "      total += sum_nested(item)\n",
        "    else:\n",
        "      # Adding non-list item to the total\n",
        "      total += item\n",
        "\n",
        "  return total\n",
        "\n",
        "def main():\n",
        "  lst = [[1, 2], [3, [4, 5]], 6]\n",
        "  result = sum_nested(lst)\n",
        "  print(f\"Sum: {result}\")\n",
        "\n",
        "if __name__ == \"__main__\":\n",
        "  main()"
      ],
      "metadata": {
        "colab": {
          "base_uri": "https://localhost:8080/"
        },
        "id": "MwpwDSyYej3F",
        "outputId": "adce1f0f-6358-49e2-de9a-d0674056f0e3"
      },
      "execution_count": 12,
      "outputs": [
        {
          "output_type": "stream",
          "name": "stdout",
          "text": [
            "Sum: 21\n"
          ]
        }
      ]
    },
    {
      "cell_type": "markdown",
      "source": [
        "# 4. Remove Specific Element from a Nested List:\n",
        "Write a Python function that removes all occurrences of a specific element from a nested list.\n",
        "• Requirements:\n",
        "– Define a function remove element(lst, elem) that removes elem from lst and returns the\n",
        "modified list.\n",
        "– Example: For the input lst = [[1, 2], [3, 2], [4, 5]] and elem = 2, the output should\n",
        "be [[1], [3], [4, 5]]."
      ],
      "metadata": {
        "id": "vItZO6GHgAno"
      }
    },
    {
      "cell_type": "code",
      "source": [
        "def remove_element(lst, elem):\n",
        "    \"\"\"Removes all occurrences of a specific element from a nested list.\"\"\"\n",
        "    new_lst = []\n",
        "    for item in lst:\n",
        "        if isinstance(item, list):\n",
        "            #Recursively remove the element from sublist\n",
        "            modified_sublist = remove_element(item, elem)\n",
        "            if modified_sublist:\n",
        "                new_lst.append(modified_sublist)\n",
        "        else:\n",
        "            if item != elem:  #Adding item if it's not the element to remove\n",
        "                new_lst.append(item)\n",
        "    return new_lst\n",
        "\n",
        "def main():\n",
        "    lst = [[1, 2], [3, 2], [4, 5]]\n",
        "    elem = 2\n",
        "    result = remove_element(lst, elem)\n",
        "    print(f\"Modified list after removing all occurrences of {elem} is: {result}\")\n",
        "\n",
        "if __name__ == \"__main__\":\n",
        "    main()\n"
      ],
      "metadata": {
        "colab": {
          "base_uri": "https://localhost:8080/"
        },
        "id": "PRe3-iGJf0pO",
        "outputId": "daaa40bc-e377-40cb-aab1-a72bcdaf8b71"
      },
      "execution_count": 13,
      "outputs": [
        {
          "output_type": "stream",
          "name": "stdout",
          "text": [
            "Modified list after removing all occurrences of 2 is: [[1], [3], [4, 5]]\n"
          ]
        }
      ]
    },
    {
      "cell_type": "markdown",
      "source": [
        "# 5. Find the Maximum Element in a Nested List:\n",
        "Write a Python function that finds the maximum element in a nested list (regardless of depth).\n",
        "• Requirements:\n",
        "– Define a function find max(lst) that takes a nested list lst and returns the maximum\n",
        "element.\n",
        "– Example: For the input [[1, 2], [3, [4, 5]], 6], the output should be 6."
      ],
      "metadata": {
        "id": "FaSYzdIRkgR5"
      }
    },
    {
      "cell_type": "code",
      "source": [
        "def find_max(lst):\n",
        "    max_value = float('-inf')  # Start with negative infinity\n",
        "\n",
        "    for item in lst:\n",
        "        if isinstance(item, list):\n",
        "            max_value = max(max_value, find_max(item))  # Recursively find max in sublist\n",
        "        else:\n",
        "            max_value = max(max_value, item)  # Compare current item to max_value\n",
        "\n",
        "    return max_value\n",
        "\n",
        "def main():\n",
        "    lst = [[1, 2], [3, [4, 5]], 6]\n",
        "    result = find_max(lst)\n",
        "    print(f\"Maximum element: {result}\")\n",
        "\n",
        "if __name__ == \"__main__\":\n",
        "    main()\n"
      ],
      "metadata": {
        "colab": {
          "base_uri": "https://localhost:8080/"
        },
        "id": "ruY2Sujejb3P",
        "outputId": "5a27edfd-267e-4686-c73f-42eb7f57e903"
      },
      "execution_count": 14,
      "outputs": [
        {
          "output_type": "stream",
          "name": "stdout",
          "text": [
            "Maximum element: 6\n"
          ]
        }
      ]
    },
    {
      "cell_type": "markdown",
      "source": [
        "# 6. Count Occurrences of an Element in a Nested List:\n",
        "Write a Python function that counts how many times a specific element appears in a nested list.\n",
        "• Requirements:\n",
        "– Define a function count occurrences(lst, elem) that counts the occurrences of elem in\n",
        "the nested list lst.\n",
        "– Example: For the input lst = [[1, 2], [2, 3], [2, 4]] and elem = 2, the output should\n",
        "be 3."
      ],
      "metadata": {
        "id": "5bsAcnn-ltKb"
      }
    },
    {
      "cell_type": "code",
      "source": [
        "def count_occurrences(lst, elem):\n",
        "    \"\"\"Counts the occurrences of 'elem' in a nested list.\"\"\"\n",
        "    count = 0\n",
        "    for item in lst:\n",
        "        if isinstance(item, list):\n",
        "            # Recursively count occurrences in the sublist\n",
        "            count += count_occurrences(item, elem)\n",
        "        else:\n",
        "            # Count occurrences in the current element\n",
        "            if item == elem:\n",
        "                count += 1\n",
        "    return count\n",
        "\n",
        "def main():\n",
        "    lst = [[1, 1], [2, 3], [2, 4]]\n",
        "    elem = 1\n",
        "    result = count_occurrences(lst, elem)\n",
        "    print(f\"The element {elem} appears {result} times in nested list.\")\n",
        "\n",
        "if __name__ == \"__main__\":\n",
        "    main()\n"
      ],
      "metadata": {
        "colab": {
          "base_uri": "https://localhost:8080/"
        },
        "id": "bqm0vs_vliCc",
        "outputId": "883f7fab-3661-487e-adc2-3415fcbbdced"
      },
      "execution_count": 15,
      "outputs": [
        {
          "output_type": "stream",
          "name": "stdout",
          "text": [
            "The element 1 appears 2 times in nested list.\n"
          ]
        }
      ]
    },
    {
      "cell_type": "markdown",
      "source": [
        "# 7. Flatten a List of Lists of Lists:\n",
        "Write a Python function that flattens a list of lists of lists into a single list, regardless of the depth.\n",
        "• Requirements:\n",
        "– Define a function deep flatten(lst) that takes a deeply nested list lst and returns a single\n",
        "flattened list.\n",
        "– Example: For the input [[[1, 2], [3, 4]], [[5, 6], [7, 8]]], the output should be\n",
        "[1, 2, 3, 4, 5, 6, 7, 8]."
      ],
      "metadata": {
        "id": "gc7JetTKnF4k"
      }
    },
    {
      "cell_type": "code",
      "source": [
        "def deep_flatten(lst):\n",
        "    flat_list = []\n",
        "    for item in lst:\n",
        "        if isinstance(item, list):\n",
        "            # Recursively flatten the sublist\n",
        "            flat_list.extend(deep_flatten(item))\n",
        "        else:\n",
        "            # Add non-list elements directly to the flat list\n",
        "            flat_list.append(item)\n",
        "    return flat_list\n",
        "\n",
        "def main():\n",
        "    lst = [[[9, 8], [7, 6]], [[5, 4], [3, 2]]]\n",
        "    result = deep_flatten(lst)\n",
        "    print(f\"Flattened list: {result}\")\n",
        "\n",
        "if __name__ == \"__main__\":\n",
        "    main()\n"
      ],
      "metadata": {
        "colab": {
          "base_uri": "https://localhost:8080/"
        },
        "id": "yw6woysCnBen",
        "outputId": "5fb912e0-225b-4807-9c30-e1a0446eb622"
      },
      "execution_count": 16,
      "outputs": [
        {
          "output_type": "stream",
          "name": "stdout",
          "text": [
            "Flattened list: [9, 8, 7, 6, 5, 4, 3, 2]\n"
          ]
        }
      ]
    },
    {
      "cell_type": "markdown",
      "source": [
        "# 8. Nested List Average:\n",
        "Write a Python function that calculates the average of all elements in a nested list.\n",
        "• Requirements:\n",
        "– Define a function average nested(lst) that takes a nested list lst and returns the average\n",
        "of all the elements.\n",
        "– Example: For the input [[1, 2], [3, 4], [5, 6]], the output should be 3.5."
      ],
      "metadata": {
        "id": "gWynJyTqnvEt"
      }
    },
    {
      "cell_type": "code",
      "source": [
        "def average_nested(lst):\n",
        "    flat_list = [] #flatten nested list\n",
        "\n",
        "    def flatten(lst):\n",
        "        for item in lst:\n",
        "            if isinstance(item, list):\n",
        "                flatten(item)  # Recursively flatten sublists\n",
        "            else:\n",
        "                flat_list.append(item)  # Add non-list elements to the flat list\n",
        "\n",
        "    flatten(lst)\n",
        "    if flat_list:\n",
        "        total_sum = sum(flat_list)\n",
        "        total_count = len(flat_list)\n",
        "        return total_sum / total_count\n",
        "    else:\n",
        "        return 0  # If the list is empty, return 0\n",
        "\n",
        "def main():\n",
        "    lst =[[[9, 8], [7, 6]], [[5, 4], [3, 2]]]\n",
        "    result = average_nested(lst)\n",
        "    print(f\"The average of all elements is: {result}\")\n",
        "\n",
        "if __name__ == \"__main__\":\n",
        "    main()\n"
      ],
      "metadata": {
        "colab": {
          "base_uri": "https://localhost:8080/"
        },
        "id": "0x_h8RrynrwQ",
        "outputId": "552f12d2-8eae-433f-9c27-4fc1c5f87e17"
      },
      "execution_count": 17,
      "outputs": [
        {
          "output_type": "stream",
          "name": "stdout",
          "text": [
            "The average of all elements is: 5.5\n"
          ]
        }
      ]
    },
    {
      "cell_type": "markdown",
      "source": [
        "# 10 To - Do - NumPy\n",
        "# 10.1 Basic Vector and Matrix Operation with Numpy."
      ],
      "metadata": {
        "id": "dh3ryTceoHni"
      }
    },
    {
      "cell_type": "markdown",
      "source": [
        "# Problem - 1: Array Creation:\n",
        "Complete the following Tasks:\n",
        "1. Initialize an empty array with size 2X2.\n",
        "2. Initialize an all one array with size 4X2.\n",
        "3. Return a new array of given shape and type, filled with fill value.{Hint: np.full}\n",
        "4. Return a new array of zeros with same shape and type as a given array.{Hint: np.zeros like}\n",
        "5. Return a new array of ones with same shape and type as a given array.{Hint: np.ones like}\n",
        "6. For an existing list new_list = [1,2,3,4] convert to an numpy array.{Hint: np.array()}"
      ],
      "metadata": {
        "id": "Yn4M2mNOpy7t"
      }
    },
    {
      "cell_type": "code",
      "source": [
        "import numpy as np"
      ],
      "metadata": {
        "id": "ZPveRGtaoEn9"
      },
      "execution_count": 18,
      "outputs": []
    },
    {
      "cell_type": "code",
      "source": [
        "def initialize_empty_array():\n",
        "    arr = np.empty((2, 2))\n",
        "    print(\"Empty array with size 2x2:\\n\", arr)\n",
        "\n",
        "def initialize_all_one_array():\n",
        "    arr = np.ones((4, 2))\n",
        "    print(\"All ones array with size 4x2:\\n\", arr)\n",
        "\n",
        "def create_array_with_fill_value(fill_value):\n",
        "    arr = np.full((3, 3), fill_value)\n",
        "    print(f\"Array filled with {fill_value}:\\n\", arr)\n",
        "\n",
        "def create_array_of_zeros_like(reference_array):\n",
        "    arr = np.zeros_like(reference_array)\n",
        "    print(f\"New array of zeros with same shape as reference array:\\n\", arr)\n",
        "\n",
        "def create_array_of_ones_like(reference_array):\n",
        "    arr = np.ones_like(reference_array)\n",
        "    print(f\"New array of ones with same shape as reference array:\\n\", arr)\n",
        "\n",
        "def convert_list_to_numpy_array(new_list):\n",
        "    arr = np.array(new_list)\n",
        "    print(f\"List converted to numpy array:\\n\", arr)\n",
        "\n",
        "def main():\n",
        "    initialize_empty_array()\n",
        "    initialize_all_one_array()\n",
        "    create_array_with_fill_value(7)  #Filled with value 7\n",
        "    reference_array = np.array([[1, 2, 3], [4, 5, 6]])\n",
        "    create_array_of_zeros_like(reference_array)\n",
        "    create_array_of_ones_like(reference_array)\n",
        "    new_list = [1, 2, 3, 4]\n",
        "    convert_list_to_numpy_array(new_list)\n",
        "\n",
        "if __name__ == \"__main__\":\n",
        "    main()\n"
      ],
      "metadata": {
        "colab": {
          "base_uri": "https://localhost:8080/"
        },
        "id": "zfB9gxDkqV4t",
        "outputId": "e7425570-87f3-4034-ec42-9e111d321908"
      },
      "execution_count": 19,
      "outputs": [
        {
          "output_type": "stream",
          "name": "stdout",
          "text": [
            "Empty array with size 2x2:\n",
            " [[2.27949310e-316 0.00000000e+000]\n",
            " [1.27319747e-312 4.94065646e-323]]\n",
            "All ones array with size 4x2:\n",
            " [[1. 1.]\n",
            " [1. 1.]\n",
            " [1. 1.]\n",
            " [1. 1.]]\n",
            "Array filled with 7:\n",
            " [[7 7 7]\n",
            " [7 7 7]\n",
            " [7 7 7]]\n",
            "New array of zeros with same shape as reference array:\n",
            " [[0 0 0]\n",
            " [0 0 0]]\n",
            "New array of ones with same shape as reference array:\n",
            " [[1 1 1]\n",
            " [1 1 1]]\n",
            "List converted to numpy array:\n",
            " [1 2 3 4]\n"
          ]
        }
      ]
    },
    {
      "cell_type": "markdown",
      "source": [
        "Problem - 2: Array Manipulation: Numerical Ranges and Array indexing:\n",
        "Complete the following tasks:\n",
        "1. Create an array with values ranging from 10 to 49. {Hint:np.arrange()}.\n",
        "2. Create a 3X3 matrix with values ranging from 0 to 8.\n",
        "{Hint:look for np.reshape()}\n",
        "3. Create a 3X3 identity matrix.{Hint:np.eye()}\n",
        "4. Create a random array of size 30 and find the mean of the array.\n",
        "{Hint:check for np.random.random() and array.mean() function}\n",
        "5. Create a 10X10 array with random values and find the minimum and maximum values.\n",
        "6. Create a zero array of size 10 and replace 5th element with 1.\n",
        "7. Reverse an array arr = [1,2,0,0,4,0].\n",
        "8. Create a 2d array with 1 on border and 0 inside.\n",
        "9. Create a 8X8 matrix and fill it with a checkerboard pattern."
      ],
      "metadata": {
        "id": "Uzh1R4FbruzA"
      }
    },
    {
      "cell_type": "code",
      "source": [
        "def create_range_array():\n",
        "    arr = np.arange(10, 50)\n",
        "    print(\"Array with values from 10 to 49:\\n\", arr)\n",
        "\n",
        "create_range_array()"
      ],
      "metadata": {
        "colab": {
          "base_uri": "https://localhost:8080/"
        },
        "id": "ZnQv4pZWqoYy",
        "outputId": "a6a36b55-ec1a-4b78-cd6d-817742cae0d9"
      },
      "execution_count": 20,
      "outputs": [
        {
          "output_type": "stream",
          "name": "stdout",
          "text": [
            "Array with values from 10 to 49:\n",
            " [10 11 12 13 14 15 16 17 18 19 20 21 22 23 24 25 26 27 28 29 30 31 32 33\n",
            " 34 35 36 37 38 39 40 41 42 43 44 45 46 47 48 49]\n"
          ]
        }
      ]
    },
    {
      "cell_type": "code",
      "source": [
        "def create_3x3_matrix():\n",
        "    arr = np.arange(9).reshape(3, 3)\n",
        "    print(\"3X3 matrix with values from 0 to 8:\\n\", arr)\n",
        "\n",
        "create_3x3_matrix()"
      ],
      "metadata": {
        "colab": {
          "base_uri": "https://localhost:8080/"
        },
        "id": "VkLWI7qQr4Si",
        "outputId": "eab68751-e80a-4722-e190-2750f482043c"
      },
      "execution_count": 21,
      "outputs": [
        {
          "output_type": "stream",
          "name": "stdout",
          "text": [
            "3X3 matrix with values from 0 to 8:\n",
            " [[0 1 2]\n",
            " [3 4 5]\n",
            " [6 7 8]]\n"
          ]
        }
      ]
    },
    {
      "cell_type": "code",
      "source": [
        "def create_identity_matrix():\n",
        "    arr = np.eye(3)\n",
        "    print(\"3X3 Identity matrix:\\n\", arr)\n",
        "\n",
        "create_identity_matrix()"
      ],
      "metadata": {
        "colab": {
          "base_uri": "https://localhost:8080/"
        },
        "id": "f3gqbeiZr59c",
        "outputId": "ac02730c-31ee-4910-8e3d-8d505aa71541"
      },
      "execution_count": 22,
      "outputs": [
        {
          "output_type": "stream",
          "name": "stdout",
          "text": [
            "3X3 Identity matrix:\n",
            " [[1. 0. 0.]\n",
            " [0. 1. 0.]\n",
            " [0. 0. 1.]]\n"
          ]
        }
      ]
    },
    {
      "cell_type": "code",
      "source": [
        "def create_random_array_and_mean():\n",
        "    arr = np.random.random(30)\n",
        "    mean_value = arr.mean()\n",
        "    print(\"Random array of size 30:\\n\", arr)\n",
        "    print(\"Mean:\", mean_value)\n",
        "\n",
        "create_random_array_and_mean()"
      ],
      "metadata": {
        "colab": {
          "base_uri": "https://localhost:8080/"
        },
        "id": "qQUlqKJCr9dh",
        "outputId": "6329ba64-a6da-438f-8213-d1bd3f891a6e"
      },
      "execution_count": 23,
      "outputs": [
        {
          "output_type": "stream",
          "name": "stdout",
          "text": [
            "Random array of size 30:\n",
            " [0.10740364 0.74328969 0.24910288 0.62297147 0.88766033 0.25046245\n",
            " 0.5792442  0.68409007 0.46025101 0.4706476  0.15918632 0.3276286\n",
            " 0.29302239 0.75004963 0.44794152 0.68364007 0.69345339 0.31451379\n",
            " 0.43591778 0.69764354 0.07067672 0.42647621 0.54689686 0.74536641\n",
            " 0.80720445 0.47436705 0.9070562  0.71877088 0.58965704 0.6631389 ]\n",
            "Mean: 0.5269243704166754\n"
          ]
        }
      ]
    },
    {
      "cell_type": "code",
      "source": [
        "def create_random_10x10_and_min_max():\n",
        "    arr = np.random.random((10, 10))\n",
        "    min_value = arr.min()\n",
        "    max_value = arr.max()\n",
        "    print(\"Random 10X10 array:\\n\", arr)\n",
        "    print(\"Min value:\", min_value)\n",
        "    print(\"Max value:\", max_value)\n",
        "\n",
        "create_random_10x10_and_min_max()"
      ],
      "metadata": {
        "colab": {
          "base_uri": "https://localhost:8080/"
        },
        "id": "Kg5aR1u_sCnp",
        "outputId": "dd7a0347-bec8-4610-ec4d-9b6537d4ace7"
      },
      "execution_count": 24,
      "outputs": [
        {
          "output_type": "stream",
          "name": "stdout",
          "text": [
            "Random 10X10 array:\n",
            " [[0.22465521 0.8266048  0.46829477 0.92246454 0.63440811 0.18148867\n",
            "  0.34417426 0.20964224 0.14721128 0.92110882]\n",
            " [0.52868667 0.77153866 0.71838025 0.99026489 0.1687122  0.79269577\n",
            "  0.68078757 0.07004902 0.49318802 0.74443186]\n",
            " [0.08484404 0.51069497 0.9512714  0.47816739 0.931555   0.54027271\n",
            "  0.99586855 0.93373759 0.1308312  0.83131901]\n",
            " [0.38007533 0.12672686 0.88424161 0.78086985 0.2888632  0.72383662\n",
            "  0.93689551 0.23468047 0.89624909 0.52056876]\n",
            " [0.18445332 0.0108666  0.18976375 0.92038386 0.25554878 0.28588996\n",
            "  0.81659262 0.92572851 0.74446319 0.41331046]\n",
            " [0.56107234 0.26850918 0.17699938 0.11768801 0.05285346 0.49602063\n",
            "  0.36030093 0.9008668  0.92799075 0.93352261]\n",
            " [0.27256333 0.21159941 0.13420812 0.42655137 0.60436811 0.31822927\n",
            "  0.89094813 0.31705806 0.57059517 0.07788928]\n",
            " [0.67843763 0.60832784 0.96183755 0.65606447 0.70576687 0.38390158\n",
            "  0.40721662 0.14760275 0.34657011 0.05654596]\n",
            " [0.1164932  0.82240514 0.7698109  0.81862137 0.64010358 0.80318804\n",
            "  0.0296824  0.81136373 0.11286217 0.82393723]\n",
            " [0.85361314 0.33270061 0.19934902 0.07749651 0.11790145 0.71828434\n",
            "  0.22241947 0.96911293 0.84739024 0.21817713]]\n",
            "Min value: 0.010866595335143114\n",
            "Max value: 0.9958685486019958\n"
          ]
        }
      ]
    },
    {
      "cell_type": "code",
      "source": [
        "def modify_zero_array():\n",
        "    arr = np.zeros(10)\n",
        "    arr[4] = 1\n",
        "    print(\"Array with 5th element replaced by 1:\\n\", arr)\n",
        "\n",
        "modify_zero_array()"
      ],
      "metadata": {
        "colab": {
          "base_uri": "https://localhost:8080/"
        },
        "id": "7ab49kI5sMsL",
        "outputId": "f4782bb1-cc21-4a3a-b538-211358b27126"
      },
      "execution_count": 25,
      "outputs": [
        {
          "output_type": "stream",
          "name": "stdout",
          "text": [
            "Array with 5th element replaced by 1:\n",
            " [0. 0. 0. 0. 1. 0. 0. 0. 0. 0.]\n"
          ]
        }
      ]
    },
    {
      "cell_type": "code",
      "source": [
        "def reverse_array():\n",
        "    arr = np.array([1, 2, 0, 0, 4, 0])\n",
        "    reversed_arr = arr[::-1]\n",
        "    print(\"Reversed array:\\n\", reversed_arr)\n",
        "\n",
        "reverse_array()"
      ],
      "metadata": {
        "colab": {
          "base_uri": "https://localhost:8080/"
        },
        "id": "4VtLu8r4sXxY",
        "outputId": "13153ace-bcdb-4eb5-8416-7dcef70748eb"
      },
      "execution_count": 26,
      "outputs": [
        {
          "output_type": "stream",
          "name": "stdout",
          "text": [
            "Reversed array:\n",
            " [0 4 0 0 2 1]\n"
          ]
        }
      ]
    },
    {
      "cell_type": "code",
      "source": [
        "def create_border_array():\n",
        "    arr = np.ones((5, 5))\n",
        "    arr[1:-1, 1:-1] = 0\n",
        "    print(\"\", arr)\n",
        "\n",
        "create_border_array()"
      ],
      "metadata": {
        "colab": {
          "base_uri": "https://localhost:8080/"
        },
        "id": "I2A8FiBjsccq",
        "outputId": "fce92c04-1fc8-4a82-8474-5ef1cd32ca77"
      },
      "execution_count": 27,
      "outputs": [
        {
          "output_type": "stream",
          "name": "stdout",
          "text": [
            " [[1. 1. 1. 1. 1.]\n",
            " [1. 0. 0. 0. 1.]\n",
            " [1. 0. 0. 0. 1.]\n",
            " [1. 0. 0. 0. 1.]\n",
            " [1. 1. 1. 1. 1.]]\n"
          ]
        }
      ]
    },
    {
      "cell_type": "code",
      "source": [
        "def create_checkerboard():\n",
        "    arr = np.zeros((8, 8), dtype=int)\n",
        "    arr[1::2, ::2] = 1\n",
        "    arr[::2, 1::2] = 1\n",
        "    print(\"\", arr)\n",
        "\n",
        "create_checkerboard()"
      ],
      "metadata": {
        "colab": {
          "base_uri": "https://localhost:8080/"
        },
        "id": "PchP0BZisiRX",
        "outputId": "9bad8b08-cfb2-49c3-8fec-ec17e8f49752"
      },
      "execution_count": 28,
      "outputs": [
        {
          "output_type": "stream",
          "name": "stdout",
          "text": [
            " [[0 1 0 1 0 1 0 1]\n",
            " [1 0 1 0 1 0 1 0]\n",
            " [0 1 0 1 0 1 0 1]\n",
            " [1 0 1 0 1 0 1 0]\n",
            " [0 1 0 1 0 1 0 1]\n",
            " [1 0 1 0 1 0 1 0]\n",
            " [0 1 0 1 0 1 0 1]\n",
            " [1 0 1 0 1 0 1 0]]\n"
          ]
        }
      ]
    },
    {
      "cell_type": "markdown",
      "source": [
        "# Problem - 3: Array Operations:\n",
        "For the following arrays:\n",
        "x = np.array([[1,2],[3,5]]) and y = np.array([[5,6],[7,8]]);\n",
        "v = np.array([9,10]) and w = np.array([11,12]);\n",
        "Complete all the task using numpy:\n",
        "1. Add the two array.\n",
        "2. Subtract the two array.\n",
        "3. Multiply the array with any integers of your choice.\n",
        "4. Find the square of each element of the array.\n",
        "5. Find the dot product between: v(and)w ; x(and)v ; x(and)y.\n",
        "6. Concatenate x(and)y along row and Concatenate v(and)w along column.\n",
        "{Hint:try np.concatenate() or np.vstack() functions.\n",
        "7. Concatenate x(and)v; if you get an error, observe and explain why did you get the error?"
      ],
      "metadata": {
        "id": "Tl0CBhwatDgC"
      }
    },
    {
      "cell_type": "code",
      "source": [
        "x = np.array([[1, 2], [3, 5]])\n",
        "y = np.array([[5, 6], [7, 8]])\n",
        "v = np.array([9, 10])\n",
        "w = np.array([11, 12])\n",
        "\n",
        "def add_arrays():\n",
        "    result = x + y\n",
        "    print(\"Addition of x and y:\\n\", result)\n",
        "\n",
        "def subtract_arrays():\n",
        "    result = x - y\n",
        "    print(\"Subtraction of x and y:\\n\", result)\n",
        "\n",
        "def multiply_array():\n",
        "    num = 2\n",
        "    result = x * num\n",
        "    print(f\"Multiplying x by {num}:\\n\", result)\n",
        "\n",
        "def square_elements():\n",
        "    result = np.square(x)\n",
        "    print(\"Square of each element of x:\\n\", result)\n",
        "\n",
        "def dot_product():\n",
        "    # Dot product of v and w\n",
        "    result_vw = np.dot(v, w)\n",
        "    # Dot product of x and v\n",
        "    result_xv = np.dot(x, v)\n",
        "    # Dot product of x and y\n",
        "    result_xy = np.dot(x, y)\n",
        "\n",
        "    print(f\"Dot product of v and w: {result_vw}\")\n",
        "    print(f\"Dot product of x and v: \\n{result_xv}\")\n",
        "    print(f\"Dot product of x and y: \\n{result_xy}\")\n",
        "\n",
        "\n",
        "def concatenate_arrays():\n",
        "    # Concatenate x and y along rows (axis 0)\n",
        "    result_xy_rows = np.concatenate((x, y), axis=0)\n",
        "    print(\"Concatenation of x and y along rows:\\n\", result_xy_rows)\n",
        "\n",
        "    # Concatenate v and w along columns (axis 1)\n",
        "    v_reshaped = v.reshape(-1, 1)  # Reshape v to column vector\n",
        "    w_reshaped = w.reshape(-1, 1)  # Reshape w to column vector\n",
        "    result_vw_columns = np.concatenate((v_reshaped, w_reshaped), axis=1)\n",
        "    print(\"Concatenation of v and w along columns:\\n\", result_vw_columns)\n",
        "\n",
        "def main():\n",
        "    add_arrays()\n",
        "    subtract_arrays()\n",
        "    multiply_array()\n",
        "    square_elements()\n",
        "    dot_product()\n",
        "    concatenate_arrays()\n",
        "\n",
        "if __name__ == \"__main__\":\n",
        "  main()\n"
      ],
      "metadata": {
        "colab": {
          "base_uri": "https://localhost:8080/"
        },
        "id": "UdP7Y7QOs6SB",
        "outputId": "1c1be52c-137a-4577-a5d2-604b524c0a18"
      },
      "execution_count": 29,
      "outputs": [
        {
          "output_type": "stream",
          "name": "stdout",
          "text": [
            "Addition of x and y:\n",
            " [[ 6  8]\n",
            " [10 13]]\n",
            "Subtraction of x and y:\n",
            " [[-4 -4]\n",
            " [-4 -3]]\n",
            "Multiplying x by 2:\n",
            " [[ 2  4]\n",
            " [ 6 10]]\n",
            "Square of each element of x:\n",
            " [[ 1  4]\n",
            " [ 9 25]]\n",
            "Dot product of v and w: 219\n",
            "Dot product of x and v: \n",
            "[29 77]\n",
            "Dot product of x and y: \n",
            "[[19 22]\n",
            " [50 58]]\n",
            "Concatenation of x and y along rows:\n",
            " [[1 2]\n",
            " [3 5]\n",
            " [5 6]\n",
            " [7 8]]\n",
            "Concatenation of v and w along columns:\n",
            " [[ 9 11]\n",
            " [10 12]]\n"
          ]
        }
      ]
    },
    {
      "cell_type": "markdown",
      "source": [
        "7. Concatenate x(and)v; if you get an error, observe and explain why did you get the error?"
      ],
      "metadata": {
        "id": "oGs6TaLbu-eW"
      }
    },
    {
      "cell_type": "code",
      "source": [
        "def concatenate_xv():\n",
        "    try:\n",
        "        result_xv = np.concatenate((x, v), axis=1)\n",
        "        print(\"Concatenation of x and v along columns:\\n\", result_xv)\n",
        "    except ValueError as e:\n",
        "        print(f\"Error occurred: {e}\")\n",
        "\n",
        "def main():\n",
        "    concatenate_xv()\n",
        "\n",
        "if __name__ == \"__main__\":\n",
        "    main()"
      ],
      "metadata": {
        "colab": {
          "base_uri": "https://localhost:8080/"
        },
        "id": "2GbYFzljujii",
        "outputId": "2b8e0399-d42b-4a7a-a93b-18f1c31540d3"
      },
      "execution_count": 30,
      "outputs": [
        {
          "output_type": "stream",
          "name": "stdout",
          "text": [
            "Error occurred: all the input arrays must have same number of dimensions, but the array at index 0 has 2 dimension(s) and the array at index 1 has 1 dimension(s)\n"
          ]
        }
      ]
    },
    {
      "cell_type": "markdown",
      "source": [
        "It tries to concatenate x and v along columns but will raise an error due to incompatible shapes.\n",
        "\n",
        "\n",
        "\n",
        "\n",
        "\n"
      ],
      "metadata": {
        "id": "X8jvVZ-bvMGs"
      }
    },
    {
      "cell_type": "markdown",
      "source": [
        "# Problem - 4: Matrix Operations:"
      ],
      "metadata": {
        "id": "A_SSeIkXvsb-"
      }
    },
    {
      "cell_type": "markdown",
      "source": [
        "• For the following arrays:\n",
        "A = np.array([[3,4],[7,8]]) and B = np.array([[5,3],[2,1]]);\n",
        "Prove following with Numpy:\n",
        "1. Prove A.A−1 = I.\n",
        "2. Prove AB ̸= BA.\n",
        "3. Prove (AB)T = BTAT\n"
      ],
      "metadata": {
        "id": "9MwlwDvJvu--"
      }
    },
    {
      "cell_type": "code",
      "source": [
        "A = np.array([[3, 4], [7, 8]])\n",
        "B = np.array([[5, 3], [2, 1]])\n",
        "\n",
        "def prove_A_inv():\n",
        "  A_inv = np.linalg.inv(A)\n",
        "\n",
        "  identity_matrix = np.dot(A, A_inv)\n",
        "  print(\"A * A^-1 (Identity Matrix):\\n\", identity_matrix)\n",
        "\n",
        "def prove_AB_not_equal_BA():\n",
        "    AB = np.dot(A, B)\n",
        "    BA = np.dot(B, A)\n",
        "    print(\"AB:\\n\", AB)\n",
        "    print(\"BA:\\n\", BA)\n",
        "    if np.array_equal(AB, BA):\n",
        "        print(\"AB = BA\")\n",
        "    else:\n",
        "        print(\"AB /= BA\")\n",
        "\n",
        "def prove_transpose():\n",
        "    AB = np.dot(A, B)\n",
        "    AB_T = np.transpose(AB)\n",
        "    B_T_A_T = np.dot(np.transpose(B), np.transpose(A))\n",
        "\n",
        "    print(\"Transpose of AB:\\n\", AB_T)\n",
        "    print(\"B^T * A^T:\\n\", B_T_A_T)\n",
        "    if np.array_equal(AB_T, B_T_A_T):\n",
        "        print(\"(AB)^T = B^T * A^T\")\n",
        "    else:\n",
        "        print(\"(AB)^T /= B^T * A^T\")\n",
        "\n",
        "def main():\n",
        "    print(\"Prove A.A^-1 = I\")\n",
        "    prove_A_inv()\n",
        "    print(\"\\n Prove AB /= BA\")\n",
        "    prove_AB_not_equal_BA()\n",
        "    print(\"\\n Prove (AB)^T = B^T * A^T\")\n",
        "    prove_transpose()\n",
        "\n",
        "if __name__ == \"__main__\":\n",
        "    main()"
      ],
      "metadata": {
        "colab": {
          "base_uri": "https://localhost:8080/"
        },
        "id": "9UcZgdG3uz_w",
        "outputId": "1c81157b-6a14-47a2-a335-f8b1e5771614"
      },
      "execution_count": 31,
      "outputs": [
        {
          "output_type": "stream",
          "name": "stdout",
          "text": [
            "Prove A.A^-1 = I\n",
            "A * A^-1 (Identity Matrix):\n",
            " [[1.00000000e+00 0.00000000e+00]\n",
            " [1.77635684e-15 1.00000000e+00]]\n",
            "\n",
            " Prove AB /= BA\n",
            "AB:\n",
            " [[23 13]\n",
            " [51 29]]\n",
            "BA:\n",
            " [[36 44]\n",
            " [13 16]]\n",
            "AB /= BA\n",
            "\n",
            " Prove (AB)^T = B^T * A^T\n",
            "Transpose of AB:\n",
            " [[23 51]\n",
            " [13 29]]\n",
            "B^T * A^T:\n",
            " [[23 51]\n",
            " [13 29]]\n",
            "(AB)^T = B^T * A^T\n"
          ]
        }
      ]
    },
    {
      "cell_type": "markdown",
      "source": [
        "# • Solve the following system of Linear equation using Inverse Methods.\n",
        "New Section\n",
        "# 2x − 3y + z = −1\n",
        "# x − y + 2z = −3\n",
        "# 3x + y − z = 9\n",
        "\n",
        "{Hint: First use Numpy array to represent the equation in Matrix form. Then Solve for: AX = B}\n",
        "\n",
        "• Now: solve the above equation using np.linalg.inv function.{Explore more about ”linalg” func-\n",
        "tion of Numpy}"
      ],
      "metadata": {
        "id": "mcxrUQPuye_s"
      }
    },
    {
      "cell_type": "code",
      "source": [
        "A = np.array([[2, -3, 1],\n",
        "              [1, -1, 2],\n",
        "              [3, 1, -1]])\n",
        "B = np.array([-1, -3, 9])\n",
        "\n",
        "A_inv = np.linalg.inv(A)\n",
        "X = np.dot(A_inv, B)\n",
        "\n",
        "print(\"Solution (x, y, z):\")\n",
        "print(X)\n"
      ],
      "metadata": {
        "colab": {
          "base_uri": "https://localhost:8080/"
        },
        "id": "KKT1OegwwSY_",
        "outputId": "fee42eb8-a3ce-4e1d-f6b4-afa3e0a87b59"
      },
      "execution_count": 32,
      "outputs": [
        {
          "output_type": "stream",
          "name": "stdout",
          "text": [
            "Solution (x, y, z):\n",
            "[ 2.  1. -2.]\n"
          ]
        }
      ]
    },
    {
      "cell_type": "markdown",
      "source": [
        "1. Element-wise Addition:\n",
        "• Using Python Lists, perform element-wise addition of two lists of size 1, 000, 000. Measure\n",
        "and Print the time taken for this operation.\n",
        "• Using Numpy Arrays, Repeat the calculation and measure and print the time taken for\n",
        "this operation."
      ],
      "metadata": {
        "id": "JlBYTv9GzTOJ"
      }
    },
    {
      "cell_type": "code",
      "source": [
        "#using python lists\n",
        "import time\n",
        "def list_addition():\n",
        "    size = 1000000\n",
        "    #creating 2 lists\n",
        "    list1 = [i for i in range(size)]\n",
        "    list2 = [i for i in range(size)]\n",
        "\n",
        "    #time taken\n",
        "    start_time = time.time()\n",
        "    result_list = [list1[i] + list2[i] for i in range(size)]\n",
        "    end_time = time.time()\n",
        "\n",
        "    return end_time - start_time\n",
        "if __name__ == \"__main__\":\n",
        "    list_time = list_addition()\n",
        "    print(f\"Time taken for element-wise addition using Python lists: {list_time:.6f} seconds\")\n"
      ],
      "metadata": {
        "colab": {
          "base_uri": "https://localhost:8080/"
        },
        "id": "jpBEoAT9y_ZW",
        "outputId": "feac479b-3518-4052-d9cc-dbad1eb3b8af"
      },
      "execution_count": 33,
      "outputs": [
        {
          "output_type": "stream",
          "name": "stdout",
          "text": [
            "Time taken for element-wise addition using Python lists: 0.060336 seconds\n"
          ]
        }
      ]
    },
    {
      "cell_type": "code",
      "source": [
        "#using numpy\n",
        "import time\n",
        "import numpy as np\n",
        "\n",
        "def numpy_addition():\n",
        "    size = 1000000\n",
        "\n",
        "    array1 = np.arange(size)\n",
        "    array2 = np.arange(size)\n",
        "\n",
        "    #time taken\n",
        "    start_time = time.time()\n",
        "    result_array = array1 + array2\n",
        "    end_time = time.time()\n",
        "\n",
        "    return end_time - start_time\n",
        "\n",
        "if __name__ == \"__main__\":\n",
        "    numpy_time = numpy_addition()\n",
        "    print(f\"Time taken for element-wise addition using NumPy arrays: {numpy_time:.6f} seconds\")\n"
      ],
      "metadata": {
        "colab": {
          "base_uri": "https://localhost:8080/"
        },
        "id": "k2T-8Fo7z2yy",
        "outputId": "b6218664-410e-4d4c-af26-e1f19e54c6fc"
      },
      "execution_count": 34,
      "outputs": [
        {
          "output_type": "stream",
          "name": "stdout",
          "text": [
            "Time taken for element-wise addition using NumPy arrays: 0.001535 seconds\n"
          ]
        }
      ]
    },
    {
      "cell_type": "markdown",
      "source": [
        "# 2. Element-wise Multiplication\n",
        "• Using Python Lists, perform element-wise multiplication of two lists of size 1, 000, 000.\n",
        "Measure and Print the time taken for this operation.\n",
        "• Using Numpy Arrays, Repeat the calculation and measure and print the time taken for\n",
        "this operation."
      ],
      "metadata": {
        "id": "BOWS2Xvw0Nlh"
      }
    },
    {
      "cell_type": "code",
      "source": [
        "#using python list\n",
        "import time\n",
        "\n",
        "def list_multiplication():\n",
        "    size = 1000000\n",
        "    list1 = [i for i in range(size)]\n",
        "    list2 = [i for i in range(size)]\n",
        "\n",
        "    start_time = time.time()\n",
        "    result_list = [list1[i] * list2[i] for i in range(size)]\n",
        "    end_time = time.time()\n",
        "\n",
        "    return end_time - start_time\n",
        "\n",
        "if __name__ == \"__main__\":\n",
        "    list_time = list_multiplication()\n",
        "    print(f\"Time taken for element-wise multiplication using Python lists: {list_time:.6f} seconds\")\n"
      ],
      "metadata": {
        "colab": {
          "base_uri": "https://localhost:8080/"
        },
        "id": "DIuLJ-v70A6o",
        "outputId": "5878adec-d573-4f9c-a310-bb56115dfbae"
      },
      "execution_count": 35,
      "outputs": [
        {
          "output_type": "stream",
          "name": "stdout",
          "text": [
            "Time taken for element-wise multiplication using Python lists: 0.046413 seconds\n"
          ]
        }
      ]
    },
    {
      "cell_type": "code",
      "source": [
        "#using numpy\n",
        "import time\n",
        "import numpy as np\n",
        "\n",
        "def numpy_multiplication():\n",
        "    size = 1000000\n",
        "    array1 = np.arange(size)\n",
        "    array2 = np.arange(size)\n",
        "\n",
        "    start_time = time.time()\n",
        "    result_array = array1 * array2\n",
        "    end_time = time.time()\n",
        "\n",
        "    return end_time - start_time\n",
        "\n",
        "if __name__ == \"__main__\":\n",
        "    numpy_time = numpy_multiplication()\n",
        "    print(f\"Time taken for element-wise multiplication using NumPy arrays: {numpy_time:.6f} seconds\")\n"
      ],
      "metadata": {
        "colab": {
          "base_uri": "https://localhost:8080/"
        },
        "id": "Yp59x2oO0gQV",
        "outputId": "4212afdf-0ba8-418e-cd43-2bc18ad7bf7f"
      },
      "execution_count": 36,
      "outputs": [
        {
          "output_type": "stream",
          "name": "stdout",
          "text": [
            "Time taken for element-wise multiplication using NumPy arrays: 0.001542 seconds\n"
          ]
        }
      ]
    },
    {
      "cell_type": "markdown",
      "source": [
        "# Dot Product\n",
        "• Using Python Lists, compute the dot product of two lists of size 1, 000, 000. Measure and\n",
        "Print the time taken for this operation.\n",
        "• Using Numpy Arrays, Repeat the calculation and measure and print the time taken for\n",
        "this operation."
      ],
      "metadata": {
        "id": "UE1b_Uk903-O"
      }
    },
    {
      "cell_type": "code",
      "source": [
        "import time\n",
        "\n",
        "def list_dot_product():\n",
        "    size = 1000000\n",
        "    list1 = [i for i in range(size)]\n",
        "    list2 = [i for i in range(size)]\n",
        "\n",
        "    start_time = time.time()\n",
        "    dot_product = sum(list1[i] * list2[i] for i in range(size))\n",
        "    end_time = time.time()\n",
        "\n",
        "    return dot_product, end_time - start_time\n",
        "\n",
        "if __name__ == \"__main__\":\n",
        "    result, list_time = list_dot_product()\n",
        "    print(f\"Dot Product using Python lists: {result}\")\n",
        "    print(f\"Time taken: {list_time:.6f} seconds\")\n"
      ],
      "metadata": {
        "colab": {
          "base_uri": "https://localhost:8080/"
        },
        "id": "QMj2n-HE0wI3",
        "outputId": "31cbc701-2eb4-4699-83d9-cea80f60ec60"
      },
      "execution_count": 37,
      "outputs": [
        {
          "output_type": "stream",
          "name": "stdout",
          "text": [
            "Dot Product using Python lists: 333332833333500000\n",
            "Time taken: 0.054328 seconds\n"
          ]
        }
      ]
    },
    {
      "cell_type": "code",
      "source": [
        "import time\n",
        "import numpy as np\n",
        "\n",
        "def numpy_dot_product():\n",
        "    size = 1000000\n",
        "    array1 = np.arange(size)\n",
        "    array2 = np.arange(size)\n",
        "\n",
        "    start_time = time.time()\n",
        "    dot_product = np.dot(array1, array2)\n",
        "    end_time = time.time()\n",
        "\n",
        "    return dot_product, end_time - start_time\n",
        "\n",
        "if __name__ == \"__main__\":\n",
        "    result, numpy_time = numpy_dot_product()\n",
        "    print(f\"Dot Product using NumPy arrays: {result}\")\n",
        "    print(f\"Time taken: {numpy_time:.6f} seconds\")\n"
      ],
      "metadata": {
        "colab": {
          "base_uri": "https://localhost:8080/"
        },
        "id": "uqrQ1bxu1Gtn",
        "outputId": "4ee224a3-84a3-46e9-902d-08b6fc3a013a"
      },
      "execution_count": 38,
      "outputs": [
        {
          "output_type": "stream",
          "name": "stdout",
          "text": [
            "Dot Product using NumPy arrays: 333332833333500000\n",
            "Time taken: 0.000698 seconds\n"
          ]
        }
      ]
    },
    {
      "cell_type": "markdown",
      "source": [
        "Matrix Multiplication\n",
        "\n",
        "• Using Python lists, perform matrix multiplication of two matrices of size 1000x1000. Mea-\n",
        "sure and print the time taken for this operation.\n",
        "\n",
        "• Using NumPy arrays, perform matrix multiplication of two matrices of size 1000x1000.\n",
        "Measure and print the time taken for this operation."
      ],
      "metadata": {
        "id": "D9NwkgZ01QYL"
      }
    },
    {
      "cell_type": "code",
      "source": [
        "import random\n",
        "import time\n",
        "\n",
        "def generate_matrix(size):\n",
        "    return [[random.randint(1, 10) for _ in range(size)] for _ in range(size)]\n",
        "\n",
        "def multiply_matrices_python(matrixA, matrixB, size):\n",
        "    result_matrix = [[0 for _ in range(size)] for _ in range(size)]\n",
        "\n",
        "    for row in range(size):\n",
        "        for col in range(size):\n",
        "            for k in range(size):\n",
        "              result_matrix[row][col] += matrixA[row][k] * matrixB[k][col]\n",
        "\n",
        "    return result_matrix\n",
        "\n",
        "def measure_multiplication(size):\n",
        "    matrixA = generate_matrix(size)\n",
        "    matrixB = generate_matrix(size)\n",
        "\n",
        "    start_time = time.time()\n",
        "    multiply_matrices_python(matrixA, matrixB, size)\n",
        "    end_time = time.time()\n",
        "\n",
        "    print(\"Time taken using Python lists:\", end_time - start_time, \"seconds\")\n",
        "\n",
        "size = 1000\n",
        "measure_multiplication(size)\n"
      ],
      "metadata": {
        "colab": {
          "base_uri": "https://localhost:8080/"
        },
        "id": "7d0QFB5R1Miu",
        "outputId": "4c06a733-5f37-4788-e074-dadde3b763eb"
      },
      "execution_count": 39,
      "outputs": [
        {
          "output_type": "stream",
          "name": "stdout",
          "text": [
            "Time taken using Python lists: 84.41361117362976 seconds\n"
          ]
        }
      ]
    },
    {
      "cell_type": "code",
      "source": [
        "import numpy as np\n",
        "import time\n",
        "size = 1000\n",
        "def generate_matrix_numpy(size):\n",
        "    return np.random.randint(1, 11, (size, size))\n",
        "\n",
        "def multiply_matrices_numpy(matrixA, matrixB):\n",
        "    return np.dot(matrixA, matrixB)\n",
        "\n",
        "def measure_numpy_multiplication(size):\n",
        "    matrixA = generate_matrix_numpy(size)\n",
        "    matrixB = generate_matrix_numpy(size)\n",
        "\n",
        "    start_time = time.time()\n",
        "    multiply_matrices_numpy(matrixA, matrixB)\n",
        "    end_time = time.time()\n",
        "\n",
        "    print(\"Time taken using NumPy:\", end_time - start_time, \"seconds\")\n",
        "\n",
        "\n",
        "measure_numpy_multiplication(size)\n"
      ],
      "metadata": {
        "colab": {
          "base_uri": "https://localhost:8080/"
        },
        "id": "M_vET8fZ2Ys3",
        "outputId": "c9615e4b-acd9-422a-fb3e-925df6d08b04"
      },
      "execution_count": 40,
      "outputs": [
        {
          "output_type": "stream",
          "name": "stdout",
          "text": [
            "Time taken using NumPy: 0.8053088188171387 seconds\n"
          ]
        }
      ]
    }
  ]
}